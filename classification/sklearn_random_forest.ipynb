{
 "cells": [
  {
   "cell_type": "markdown",
   "id": "442e90da-93a8-4ccb-a4f0-42c3d458ecc5",
   "metadata": {},
   "source": [
    "## Random forest\n",
    "**It is an ensemble learning method that combines multiple decision trees to improve accuracy and reduce overfitting. The idea is to build multiple trees with random subsets of the data and features, and then take a majority vote to make predictions. Random forests are widely used in various fields such as finance, healthcare, and engineering due to their high accuracy and ability to handle high-dimensional data.**"
   ]
  },
  {
   "cell_type": "markdown",
   "id": "0fe8a910-a37f-48a5-8a2d-49a8ed23bf0e",
   "metadata": {},
   "source": [
    "This code imports the iris dataset from the scikit-learn library. "
   ]
  },
  {
   "cell_type": "code",
   "execution_count": null,
   "id": "1d89e8f0-6721-47fd-a236-f813b16ba521",
   "metadata": {},
   "outputs": [],
   "source": [
    "from sklearn.datasets import load_iris\n",
    "iris = load_iris()"
   ]
  },
  {
   "cell_type": "markdown",
   "id": "678f5344-e138-4f53-94f1-cd862eeb31a1",
   "metadata": {},
   "source": [
    "This code snippet uses the train_test_split function from the sklearn.model_selection module to split the Iris dataset into training and testing sets. The dataset is split in such a way that 20% of the samples are reserved for testing, and the remaining 80% are used for training. The random_state parameter is set to 42 to ensure that the same random split is obtained each time the code is run. The resulting training and testing sets are stored in the variables X_train, X_test, y_train, and y_test. X_train and X_test contain the features (i.e., measurements) of the iris samples, and y_train and y_test contain their corresponding target labels (i.e., species)."
   ]
  },
  {
   "cell_type": "code",
   "execution_count": null,
   "id": "fac53eb6-d006-4c5b-812b-fb0c13b4102b",
   "metadata": {},
   "outputs": [],
   "source": [
    "from sklearn.model_selection import train_test_split\n",
    "X_train, X_test, y_train, y_test = train_test_split(iris.data, iris.target, test_size=0.2, random_state=42)"
   ]
  },
  {
   "cell_type": "markdown",
   "id": "08163c8c-aaf1-48c8-b3fc-eb9ffaf5499a",
   "metadata": {},
   "source": [
    "This code imports the RandomForestClassifier class from the sklearn.ensemble module, instantiates an object of the class with 100 decision trees, sets a random seed of 42, and trains the model on the training data X_train and y_train. The resulting trained model can be used for making predictions on new data."
   ]
  },
  {
   "cell_type": "code",
   "execution_count": null,
   "id": "984b74d4-34e5-4039-a063-245eebb17775",
   "metadata": {},
   "outputs": [],
   "source": [
    "from sklearn.ensemble import RandomForestClassifier\n",
    "model = RandomForestClassifier(n_estimators=100, random_state=42)\n",
    "model.fit(X_train, y_train)"
   ]
  },
  {
   "cell_type": "markdown",
   "id": "4345253c-ef3b-4d7b-9b5d-1a6424cede5a",
   "metadata": {},
   "source": [
    "y_pred is a numpy array containing the predicted class labels for the test set obtained using the trained Random Forest classifier model."
   ]
  },
  {
   "cell_type": "code",
   "execution_count": null,
   "id": "017f82cb-7412-4646-8151-7e1e76ea2b35",
   "metadata": {},
   "outputs": [],
   "source": [
    "y_pred = model.predict(X_test)"
   ]
  },
  {
   "cell_type": "markdown",
   "id": "fdd0dc50-275c-44fc-b289-7a0f685ef398",
   "metadata": {},
   "source": [
    "This code calculates the accuracy score of the predicted values y_pred against the actual target values y_test using the accuracy_score function from the sklearn.metrics module. The calculated accuracy score is then printed to the console."
   ]
  },
  {
   "cell_type": "code",
   "execution_count": null,
   "id": "cd42ac64-e3b9-45d2-80b4-78c7409cafb0",
   "metadata": {},
   "outputs": [],
   "source": [
    "from sklearn.metrics import accuracy_score\n",
    "accuracy = accuracy_score(y_test, y_pred)\n",
    "print(\"Accuracy:\", accuracy)"
   ]
  },
  {
   "cell_type": "markdown",
   "id": "169bbad2-829c-4e0a-b47a-fb11d89a687b",
   "metadata": {},
   "source": [
    "This cell contains a code snippet to visualize the trained model and interpret how the model is working\n",
    "Only first 5 decision trees of the overall trees are displayed here"
   ]
  },
  {
   "cell_type": "code",
   "execution_count": null,
   "id": "76b5cdf9-9664-4e64-8243-05cd33264d95",
   "metadata": {},
   "outputs": [],
   "source": [
    "from sklearn.tree import export_graphviz\n",
    "from IPython.display import display\n",
    "from graphviz import Source\n",
    "for i in range(5):\n",
    "    dot_data = export_graphviz(model.estimators_[i], out_file=None, feature_names=iris.feature_names, class_names=iris.target_names, filled=True, rounded=True, special_characters=True)\n",
    "    graph = Source(dot_data)\n",
    "    display(graph)"
   ]
  }
 ],
 "metadata": {
  "kernelspec": {
   "display_name": "tf-gpu",
   "language": "python",
   "name": "tf-gpu"
  },
  "language_info": {
   "codemirror_mode": {
    "name": "ipython",
    "version": 3
   },
   "file_extension": ".py",
   "mimetype": "text/x-python",
   "name": "python",
   "nbconvert_exporter": "python",
   "pygments_lexer": "ipython3",
   "version": "3.10.9"
  }
 },
 "nbformat": 4,
 "nbformat_minor": 5
}
