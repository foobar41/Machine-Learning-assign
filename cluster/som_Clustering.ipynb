{
 "cells": [
  {
   "cell_type": "code",
   "execution_count": 1,
   "metadata": {},
   "outputs": [],
   "source": [
    "from sklearn.datasets import fetch_openml\n",
    "from sklearn.decomposition import PCA\n",
    "from sklearn.preprocessing import StandardScaler\n",
    "from minisom import MiniSom\n",
    "import numpy as np\n",
    "import matplotlib.pyplot as plt\n",
    "\n",
    "# Load the MNIST dataset\n",
    "mnist = fetch_openml('mnist_784')\n",
    "\n",
    "# Scale the data and apply PCA for dimensionality reduction\n",
    "X = mnist.data.astype('float32')\n",
    "X = StandardScaler().fit_transform(X)\n",
    "pca = PCA(n_components=50, random_state=42)\n",
    "X = pca.fit_transform(X)\n",
    "\n",
    "# Initialize the SOM\n",
    "som_shape = (20, 20)\n",
    "som = MiniSom(som_shape[0], som_shape[1], X.shape[1], sigma=1.0, learning_rate=0.5,\n",
    "              neighborhood_function='gaussian', random_seed=42)\n",
    "\n",
    "# Train the SOM\n",
    "som.train_random(X, 10000)\n",
    "\n",
    "# Map each data point to its closest neuron\n",
    "mapped = som.win_map(X)\n",
    "\n",
    "# Create a plot of the digit distribution across the SOM\n",
    "fig, ax = plt.subplots(som_shape[0], som_shape[1], figsize=(10, 10))\n",
    "for i in range(som_shape[0]):\n",
    "    for j in range(som_shape[1]):\n",
    "        ax[i,j].imshow(np.mean(mapped[(i,j)], axis=0).reshape(28, 28), cmap='gray')\n",
    "        ax[i,j].axis('off')\n",
    "plt.tight_layout()\n",
    "plt.show()\n"
   ]
  },
  {
   "cell_type": "code",
   "execution_count": null,
   "metadata": {},
   "outputs": [],
   "source": []
  }
 ],
 "metadata": {
  "kernelspec": {
   "display_name": "Python 3",
   "language": "python",
   "name": "python3"
  },
  "language_info": {
   "codemirror_mode": {
    "name": "ipython",
    "version": 3
   },
   "file_extension": ".py",
   "mimetype": "text/x-python",
   "name": "python",
   "nbconvert_exporter": "python",
   "pygments_lexer": "ipython3",
   "version": "3.10.0"
  },
  "orig_nbformat": 4
 },
 "nbformat": 4,
 "nbformat_minor": 2
}
